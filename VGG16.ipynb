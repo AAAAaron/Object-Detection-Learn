{
 "cells": [
  {
   "cell_type": "code",
   "execution_count": 1,
   "metadata": {},
   "outputs": [
    {
     "name": "stderr",
     "output_type": "stream",
     "text": [
      "Using TensorFlow backend.\n"
     ]
    }
   ],
   "source": [
    "from keras import Sequential\n",
    "from keras.layers import Dense,Activation,Conv2D,MaxPool2D,MaxPooling2D,Flatten,Dropout,Input\n",
    "from keras.optimizers import SGD"
   ]
  },
  {
   "cell_type": "code",
   "execution_count": 2,
   "metadata": {
    "collapsed": true
   },
   "outputs": [],
   "source": [
    "#vgg-16模型\n",
    "model = Sequential()"
   ]
  },
  {
   "cell_type": "code",
   "execution_count": 3,
   "metadata": {},
   "outputs": [],
   "source": [
    "#block 1 224-112\n",
    "model.add(Conv2D(filters=64,kernel_size=(3,3),activation=\"relu\",padding='same',name = 'block1_conv1',input_shape=(224,224,3)))\n",
    "model.add(Conv2D(filters=64,kernel_size=(3,3),activation='relu',padding='same',name = 'block1_conv2'))\n",
    "model.add(MaxPooling2D(pool_size=(2,2),strides=(2,2),name ='block1_maxpoling'))"
   ]
  },
  {
   "cell_type": "markdown",
   "metadata": {},
   "source": [
    "所以这里取出来的filter都是什么样的"
   ]
  },
  {
   "cell_type": "code",
   "execution_count": 4,
   "metadata": {
    "collapsed": true
   },
   "outputs": [],
   "source": [
    "#block 2 112-56\n",
    "model.add(Conv2D(filters=128,kernel_size=(3,3),activation='relu',padding='same',name = 'block2_conv1'))\n",
    "model.add(Conv2D(filters=128,kernel_size=(3,3),activation='relu',padding='same',name = 'block2_conv2'))\n",
    "model.add(MaxPooling2D(pool_size=(2,2),strides=(2,2),name='block2_maxPooling'))"
   ]
  },
  {
   "cell_type": "code",
   "execution_count": 5,
   "metadata": {
    "collapsed": true
   },
   "outputs": [],
   "source": [
    "#block 3 56-28\n",
    "model.add(Conv2D(filters=256,kernel_size=(3,3),activation='relu',padding='same',name = 'block3_conv1'))\n",
    "model.add(Conv2D(filters=256,kernel_size=(3,3),activation='relu',padding='same',name = 'block3_conv2'))\n",
    "model.add(Conv2D(filters=256,kernel_size=(3,3),activation='relu',padding='same',name = 'block3_conv3'))\n",
    "model.add(MaxPooling2D(pool_size=(2,2),strides=(2,2),name='block3_maxPooling'))"
   ]
  },
  {
   "cell_type": "code",
   "execution_count": 6,
   "metadata": {},
   "outputs": [],
   "source": [
    "#block 4 28-14\n",
    "model.add(Conv2D(filters=512,kernel_size=(3,3),activation='relu',padding='same',name = 'block4_conv1'))\n",
    "model.add(Conv2D(filters=512,kernel_size=(3,3),activation='relu',padding='same',name = 'block4_conv2'))\n",
    "model.add(Conv2D(filters=512,kernel_size=(3,3),activation='relu',padding='same',name = 'block4_conv3'))\n",
    "model.add(MaxPooling2D(pool_size=(2,2),strides=(2,2),name='block4_maxPooling'))"
   ]
  },
  {
   "cell_type": "code",
   "execution_count": 7,
   "metadata": {},
   "outputs": [],
   "source": [
    "#block 5 14-7\n",
    "model.add(Conv2D(filters=512,kernel_size=(3,3),activation='relu',padding='same',name = 'block5_conv1'))\n",
    "model.add(Conv2D(filters=512,kernel_size=(3,3),activation='relu',padding='same',name = 'block5_conv2'))\n",
    "model.add(Conv2D(filters=512,kernel_size=(3,3),activation='relu',padding='same',name = 'block5_conv3'))\n",
    "model.add(MaxPooling2D(pool_size=(2,2),strides=(2,2),name='block5_maxPooling'))"
   ]
  },
  {
   "cell_type": "code",
   "execution_count": 8,
   "metadata": {
    "collapsed": true
   },
   "outputs": [],
   "source": [
    "model.add(Flatten())\n",
    "model.add(Dense(4096,activation='relu',name='fc1'))\n",
    "model.add(Dropout(0.5))\n",
    "model.add(Dense(4096,activation='relu',name='fc2'))\n",
    "model.add(Dropout(0.5))\n",
    "model.add(Dense(1000,activation='softmax',name='prediction'))"
   ]
  },
  {
   "cell_type": "markdown",
   "metadata": {},
   "source": [
    "weight 对应的行应该是\n",
    "(3X3X3+1)X64=1792,直观上感觉3*3*3*64比较能理解，但是不知道，为啥多了以项目\n",
    "第二个卷积层因为用的是上次的输入，所以输入就是64了，因此得有3*3*64*64，但是summary应该是(3*3*64+1)*64\n",
    "池化后输入为112*112*64\n",
    "block2_Conv1:3*3*64*128\n",
    "block2_Conv2:3*3*128*128\n",
    "\n",
    "block3_conv1:3*3*128*256\n",
    "block3_conv2:3*3*256*256\n",
    "block3_conv3:3*3*256*256\n",
    "\n",
    "block4_conv1:3*3*256*512\n",
    "block4_conv2:3*3*512*512\n",
    "block4_conv3:3*3*512*512\n",
    "\n",
    "block5_conv1:3*3*512*512\n",
    "block5_conv2:3*3*512*512\n",
    "block5_conv3:3*3*512*512\n",
    "\n",
    "flaten （7*7*512个神经元）\n",
    "Dense fc1 7*7*512*4096\n",
    "fc2 4096*4096 但是这里是4097*4096\n",
    "\n",
    "prediction 4096*1000 这里是4097*1000，感觉是加了一个bias"
   ]
  },
  {
   "cell_type": "code",
   "execution_count": 9,
   "metadata": {},
   "outputs": [
    {
     "name": "stdout",
     "output_type": "stream",
     "text": [
      "_________________________________________________________________\n",
      "Layer (type)                 Output Shape              Param #   \n",
      "=================================================================\n",
      "block1_conv1 (Conv2D)        (None, 224, 224, 64)      1792      \n",
      "_________________________________________________________________\n",
      "block1_conv2 (Conv2D)        (None, 224, 224, 64)      36928     \n",
      "_________________________________________________________________\n",
      "block1_maxpoling (MaxPooling (None, 112, 112, 64)      0         \n",
      "_________________________________________________________________\n",
      "block2_conv1 (Conv2D)        (None, 112, 112, 128)     73856     \n",
      "_________________________________________________________________\n",
      "block2_conv2 (Conv2D)        (None, 112, 112, 128)     147584    \n",
      "_________________________________________________________________\n",
      "block2_maxPooling (MaxPoolin (None, 56, 56, 128)       0         \n",
      "_________________________________________________________________\n",
      "block3_conv1 (Conv2D)        (None, 56, 56, 256)       295168    \n",
      "_________________________________________________________________\n",
      "block3_conv2 (Conv2D)        (None, 56, 56, 256)       590080    \n",
      "_________________________________________________________________\n",
      "block3_conv3 (Conv2D)        (None, 56, 56, 256)       590080    \n",
      "_________________________________________________________________\n",
      "block3_maxPooling (MaxPoolin (None, 28, 28, 256)       0         \n",
      "_________________________________________________________________\n",
      "block4_conv1 (Conv2D)        (None, 28, 28, 512)       1180160   \n",
      "_________________________________________________________________\n",
      "block4_conv2 (Conv2D)        (None, 28, 28, 512)       2359808   \n",
      "_________________________________________________________________\n",
      "block4_conv3 (Conv2D)        (None, 28, 28, 512)       2359808   \n",
      "_________________________________________________________________\n",
      "block4_maxPooling (MaxPoolin (None, 14, 14, 512)       0         \n",
      "_________________________________________________________________\n",
      "block5_conv1 (Conv2D)        (None, 14, 14, 512)       2359808   \n",
      "_________________________________________________________________\n",
      "block5_conv2 (Conv2D)        (None, 14, 14, 512)       2359808   \n",
      "_________________________________________________________________\n",
      "block5_conv3 (Conv2D)        (None, 14, 14, 512)       2359808   \n",
      "_________________________________________________________________\n",
      "block5_maxPooling (MaxPoolin (None, 7, 7, 512)         0         \n",
      "_________________________________________________________________\n",
      "flatten_1 (Flatten)          (None, 25088)             0         \n",
      "_________________________________________________________________\n",
      "fc1 (Dense)                  (None, 4096)              102764544 \n",
      "_________________________________________________________________\n",
      "dropout_1 (Dropout)          (None, 4096)              0         \n",
      "_________________________________________________________________\n",
      "fc2 (Dense)                  (None, 4096)              16781312  \n",
      "_________________________________________________________________\n",
      "dropout_2 (Dropout)          (None, 4096)              0         \n",
      "_________________________________________________________________\n",
      "prediction (Dense)           (None, 1000)              4097000   \n",
      "=================================================================\n",
      "Total params: 138,357,544\n",
      "Trainable params: 138,357,544\n",
      "Non-trainable params: 0\n",
      "_________________________________________________________________\n"
     ]
    }
   ],
   "source": [
    "model.summary()"
   ]
  }
 ],
 "metadata": {
  "kernelspec": {
   "display_name": "py35",
   "language": "python",
   "name": "py35"
  },
  "language_info": {
   "codemirror_mode": {
    "name": "ipython",
    "version": 2
   },
   "file_extension": ".py",
   "mimetype": "text/x-python",
   "name": "python",
   "nbconvert_exporter": "python",
   "pygments_lexer": "ipython2",
   "version": "2.7.15"
  },
  "toc": {
   "base_numbering": 1,
   "nav_menu": {},
   "number_sections": true,
   "sideBar": true,
   "skip_h1_title": false,
   "title_cell": "Table of Contents",
   "title_sidebar": "Contents",
   "toc_cell": false,
   "toc_position": {},
   "toc_section_display": true,
   "toc_window_display": false
  },
  "varInspector": {
   "cols": {
    "lenName": 16,
    "lenType": 16,
    "lenVar": 40
   },
   "kernels_config": {
    "python": {
     "delete_cmd_postfix": "",
     "delete_cmd_prefix": "del ",
     "library": "var_list.py",
     "varRefreshCmd": "print(var_dic_list())"
    },
    "r": {
     "delete_cmd_postfix": ") ",
     "delete_cmd_prefix": "rm(",
     "library": "var_list.r",
     "varRefreshCmd": "cat(var_dic_list()) "
    }
   },
   "types_to_exclude": [
    "module",
    "function",
    "builtin_function_or_method",
    "instance",
    "_Feature"
   ],
   "window_display": false
  }
 },
 "nbformat": 4,
 "nbformat_minor": 2
}
